{
 "cells": [
  {
   "cell_type": "code",
   "execution_count": 1,
   "id": "dbb240df-a042-4602-89ed-eb5f0d801bc1",
   "metadata": {
    "jupyter": {
     "source_hidden": true
    }
   },
   "outputs": [
    {
     "data": {
      "text/plain": [
       "[]"
      ]
     },
     "execution_count": 1,
     "metadata": {},
     "output_type": "execute_result"
    },
    {
     "data": {
      "image/png": "[encoded data removed]",
      "text/plain": [
       "<Figure size 1000x1000 with 1 Axes>"
      ]
     },
     "metadata": {},
     "output_type": "display_data"
    }
   ],
   "source": [
    "import matplotlib.pyplot as plt\n",
    "import matplotlib.patches as patches\n",
    "import numpy as np\n",
    "\n",
    "# Function to draw vertical dashed line\n",
    "def vert_dashed(ax, dash_length, gap_length, num_dashes, x_position, y_offset=0):\n",
    "    \"\"\"\n",
    "    Draw a vertical dashed line on the provided axes.\n",
    "    \n",
    "    Parameters:\n",
    "    - ax: The axes to plot on.\n",
    "    - dash_length: Length of each dash.\n",
    "    - gap_length: Length of the gap between dashes.\n",
    "    - num_dashes: Number of dashes to draw.\n",
    "    - x_position: The x-coordinate where the line should be drawn.\n",
    "    - y_offset: Offset for the starting point of the first dash.\n",
    "    \"\"\"\n",
    "    # Draw line using patches\n",
    "    for i in range(num_dashes):\n",
    "        start_y = i * (dash_length + gap_length) + y_offset\n",
    "        # Draw the dash\n",
    "        ax.add_patch(patches.Rectangle((x_position, start_y), 0.001, dash_length, color='blue'))\n",
    "\n",
    "# Function to draw horizontal dashed line\n",
    "def horiz_dashed(ax, dash_length, gap_length, num_dashes, y_position, x_offset=0):\n",
    "    \"\"\"\n",
    "    Draw a horizontal dashed line on the provided axes.\n",
    "    \n",
    "    Parameters:\n",
    "    - ax: The axes to plot on.\n",
    "    - dash_length: Length of each dash.\n",
    "    - gap_length: Length of the gap between dashes.\n",
    "    - num_dashes: Number of dashes to draw.\n",
    "    - y_position: The y-coordinate where the line should be drawn.\n",
    "    - x_offset: Offset for the starting point of the first dash.\n",
    "    \"\"\"\n",
    "    # Draw line using patches\n",
    "    for i in range(num_dashes):\n",
    "        start_x = i * (dash_length + gap_length) + x_offset\n",
    "        # Draw the dash\n",
    "        ax.add_patch(patches.Rectangle((start_x, y_position), dash_length, 0.001, color='black'))\n",
    "\n",
    "# Create the plot\n",
    "fig, ax = plt.subplots(figsize=(10, 10))  # Adjusted aspect ratio for both horizontal and vertical lines\n",
    "\n",
    "num_dashes = 20\n",
    "#Create plot arrays\n",
    "x_arr = np.random.randint(2,size=num_dashes)\n",
    "y_arr = np.random.randint(2,size=num_dashes)\n",
    "\n",
    "for i in range(len(x_arr)):\n",
    "    x = x_arr[i]\n",
    "    horiz_dashed(ax,1,1,int(num_dashes/2),i,x)\n",
    "\n",
    "for i in range(len(y_arr)):\n",
    "    y = y_arr[i]\n",
    "    vert_dashed(ax,1,1,int(num_dashes/2),i,y)\n",
    "\n",
    "ax.set_xticks([])\n",
    "ax.set_yticks([])\n",
    "plt.plot()"
   ]
  }
 ],
 "metadata": {
  "kernelspec": {
   "display_name": "Python 3 (ipykernel)",
   "language": "python",
   "name": "python3"
  },
  "language_info": {
   "codemirror_mode": {
    "name": "ipython",
    "version": 3
   },
   "file_extension": ".py",
   "mimetype": "text/x-python",
   "name": "python",
   "nbconvert_exporter": "python",
   "pygments_lexer": "ipython3",
   "version": "3.12.6"
  }
 },
 "nbformat": 4,
 "nbformat_minor": 5
}
